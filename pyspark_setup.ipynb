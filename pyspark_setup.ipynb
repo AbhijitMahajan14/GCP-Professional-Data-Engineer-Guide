{
  "nbformat": 4,
  "nbformat_minor": 0,
  "metadata": {
    "colab": {
      "provenance": [],
      "authorship_tag": "ABX9TyPA2KuvK/XvTEzZScDnB+fz",
      "include_colab_link": true
    },
    "kernelspec": {
      "name": "python3",
      "display_name": "Python 3"
    },
    "language_info": {
      "name": "python"
    }
  },
  "cells": [
    {
      "cell_type": "markdown",
      "metadata": {
        "id": "view-in-github",
        "colab_type": "text"
      },
      "source": [
        "<a href=\"https://colab.research.google.com/github/AbhijitMahajan14/GCP-Professional-Data-Engineer-Guide/blob/main/pyspark_setup.ipynb\" target=\"_parent\"><img src=\"https://colab.research.google.com/assets/colab-badge.svg\" alt=\"Open In Colab\"/></a>"
      ]
    },
    {
      "cell_type": "code",
      "execution_count": 1,
      "metadata": {
        "colab": {
          "base_uri": "https://localhost:8080/"
        },
        "id": "rVYVTTuTCZFy",
        "outputId": "58bb0044-bf5c-49a5-cb73-87f6ad3d4701"
      },
      "outputs": [
        {
          "output_type": "stream",
          "name": "stdout",
          "text": [
            "Collecting pyspark\n",
            "  Downloading pyspark-3.5.1.tar.gz (317.0 MB)\n",
            "\u001b[2K     \u001b[90m━━━━━━━━━━━━━━━━━━━━━━━━━━━━━━━━━━━━━━━━\u001b[0m \u001b[32m317.0/317.0 MB\u001b[0m \u001b[31m2.1 MB/s\u001b[0m eta \u001b[36m0:00:00\u001b[0m\n",
            "\u001b[?25h  Preparing metadata (setup.py) ... \u001b[?25l\u001b[?25hdone\n",
            "Requirement already satisfied: py4j==0.10.9.7 in /usr/local/lib/python3.10/dist-packages (from pyspark) (0.10.9.7)\n",
            "Building wheels for collected packages: pyspark\n",
            "  Building wheel for pyspark (setup.py) ... \u001b[?25l\u001b[?25hdone\n",
            "  Created wheel for pyspark: filename=pyspark-3.5.1-py2.py3-none-any.whl size=317488491 sha256=1703204fcc7a17929a868d89216c6c980d6aa07f3cacb212994016eb9c059978\n",
            "  Stored in directory: /root/.cache/pip/wheels/80/1d/60/2c256ed38dddce2fdd93be545214a63e02fbd8d74fb0b7f3a6\n",
            "Successfully built pyspark\n",
            "Installing collected packages: pyspark\n",
            "Successfully installed pyspark-3.5.1\n",
            "<pyspark.sql.session.SparkSession object at 0x7df113f85210>\n",
            "+-----+-----+\n",
            "| Name|Value|\n",
            "+-----+-----+\n",
            "|Alice|    1|\n",
            "|  Bob|    2|\n",
            "|Carol|    3|\n",
            "+-----+-----+\n",
            "\n"
          ]
        }
      ],
      "source": [
        "# Install Java\n",
        "!apt-get install openjdk-8-jdk-headless -qq > /dev/null\n",
        "\n",
        "# Download and install Spark\n",
        "!wget -q https://archive.apache.org/dist/spark/spark-3.5.1/spark-3.5.1-bin-hadoop3.tgz\n",
        "!tar -xzf spark-3.5.1-bin-hadoop3.tgz\n",
        "\n",
        "# Set environment variables\n",
        "import os\n",
        "os.environ[\"JAVA_HOME\"] = \"/usr/lib/jvm/java-8-openjdk-amd64\"\n",
        "os.environ[\"SPARK_HOME\"] = \"/content/spark-3.5.1-bin-hadoop3\"\n",
        "\n",
        "# Install Findspark and PySpark\n",
        "!pip install -q findspark\n",
        "!pip install pyspark\n",
        "\n",
        "# Initialize Findspark\n",
        "import findspark\n",
        "findspark.init()\n",
        "\n",
        "# Create Spark session\n",
        "from pyspark.sql import SparkSession\n",
        "spark = SparkSession.builder.appName(\"Colab Spark\").getOrCreate()\n",
        "print(spark)\n",
        "\n",
        "# Test Spark with a simple DataFrame\n",
        "data = [(\"Alice\", 1), (\"Bob\", 2), (\"Carol\", 3)]\n",
        "columns = [\"Name\", \"Value\"]\n",
        "df = spark.createDataFrame(data, columns)\n",
        "df.show()\n"
      ]
    },
    {
      "cell_type": "code",
      "source": [],
      "metadata": {
        "id": "4DdWMrffCbmS"
      },
      "execution_count": null,
      "outputs": []
    }
  ]
}